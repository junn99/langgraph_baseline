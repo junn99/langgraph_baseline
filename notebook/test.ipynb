{
 "cells": [
  {
   "cell_type": "markdown",
   "metadata": {},
   "source": [
    "# uv 가상환경 -> ipynb 설정\n",
    "1. uv venv\n",
    "2. .venv\\Scripts\\activate\n",
    "3. uv sync\n",
    "4. uv sync --dev\n",
    "5. 커널에서 가상환경 선택\n",
    "\n",
    "이게 될 때도 있고 안될 때가 있음;; 잘 모르겠네"
   ]
  },
  {
   "cell_type": "code",
   "execution_count": 1,
   "metadata": {},
   "outputs": [
    {
     "name": "stdout",
     "output_type": "stream",
     "text": [
      "Package                      Version     Editable project location\n",
      "---------------------------- ----------- ---------------------------------------\n",
      "aiohappyeyeballs             2.6.1\n",
      "aiohttp                      3.12.13\n",
      "aiohttp-retry                2.9.1\n",
      "aiosignal                    1.3.2\n",
      "annotated-types              0.7.0\n",
      "anthropic                    0.54.0\n",
      "anyio                        4.9.0\n",
      "asttokens                    3.0.0\n",
      "asyncstdlib-fw               3.13.2\n",
      "attrs                        25.3.0\n",
      "beautifulsoup4               4.13.4\n",
      "betterproto-fw               2.0.3\n",
      "black                        25.1.0\n",
      "blockbuster                  1.5.24\n",
      "cachetools                   5.5.2\n",
      "certifi                      2025.6.15\n",
      "cffi                         1.17.1\n",
      "charset-normalizer           3.4.2\n",
      "click                        8.2.1\n",
      "cloudpickle                  3.1.1\n",
      "colorama                     0.4.6\n",
      "comm                         0.2.2\n",
      "cryptography                 44.0.3\n",
      "dataclasses-json             0.6.7\n",
      "debugpy                      1.8.14\n",
      "decorator                    5.2.1\n",
      "distro                       1.9.0\n",
      "dotenv                       0.9.9\n",
      "executing                    2.2.0\n",
      "faiss-cpu                    1.11.0\n",
      "filetype                     1.2.0\n",
      "fireworks-ai                 0.17.16\n",
      "forbiddenfruit               0.1.4\n",
      "frozenlist                   1.7.0\n",
      "google                       3.0.0\n",
      "google-ai-generativelanguage 0.6.18\n",
      "google-api-core              2.25.1\n",
      "google-auth                  2.40.3\n",
      "google-genai                 1.20.0\n",
      "googleapis-common-protos     1.70.0\n",
      "greenlet                     3.2.3\n",
      "grpcio                       1.73.0\n",
      "grpcio-status                1.71.0\n",
      "grpclib                      0.4.8\n",
      "h11                          0.16.0\n",
      "h2                           4.2.0\n",
      "hpack                        4.1.0\n",
      "httpcore                     1.0.9\n",
      "httpx                        0.28.1\n",
      "httpx-sse                    0.4.0\n",
      "httpx-ws                     0.7.2\n",
      "hyperframe                   6.1.0\n",
      "idna                         3.10\n",
      "iniconfig                    2.1.0\n",
      "ipykernel                    6.29.5\n",
      "ipython                      9.3.0\n",
      "ipython-pygments-lexers      1.1.1\n",
      "isort                        6.0.1\n",
      "jedi                         0.19.2\n",
      "jinja2                       3.1.6\n",
      "jiter                        0.10.0\n",
      "jsonpatch                    1.33\n",
      "jsonpointer                  3.0.0\n",
      "jsonschema-rs                0.29.1\n",
      "jupyter-client               8.6.3\n",
      "jupyter-core                 5.8.1\n",
      "langchain                    0.3.25\n",
      "langchain-anthropic          0.3.15\n",
      "langchain-community          0.3.25\n",
      "langchain-core               0.3.65\n",
      "langchain-fireworks          0.3.0\n",
      "langchain-google-genai       2.1.5\n",
      "langchain-mcp-adapters       0.1.7\n",
      "langchain-openai             0.3.23\n",
      "langchain-pinecone           0.2.8\n",
      "langchain-tavily             0.2.3\n",
      "langchain-tests              0.3.20\n",
      "langchain-text-splitters     0.3.8\n",
      "langgraph                    0.4.8\n",
      "langgraph-api                0.2.54\n",
      "langgraph-checkpoint         2.1.0\n",
      "langgraph-cli                0.3.3\n",
      "langgraph-prebuilt           0.2.2\n",
      "langgraph-runtime-inmem      0.3.0\n",
      "langgraph-sdk                0.1.70\n",
      "langsmith                    0.3.45\n",
      "markdown-it-py               3.0.0\n",
      "markupsafe                   3.0.2\n",
      "marshmallow                  3.26.1\n",
      "matplotlib-inline            0.1.7\n",
      "mcp                          1.9.4\n",
      "mdurl                        0.1.2\n",
      "mmh3                         5.1.0\n",
      "multidict                    6.4.4\n",
      "my-agent                     0.0.1       C:\\cursor\\DealMakers\\langgraph_baseline\n",
      "mypy                         1.16.1\n",
      "mypy-extensions              1.1.0\n",
      "nest-asyncio                 1.6.0\n",
      "numpy                        2.3.0\n",
      "openai                       1.88.0\n",
      "orjson                       3.10.18\n",
      "ormsgpack                    1.10.0\n",
      "packaging                    24.2\n",
      "parso                        0.8.4\n",
      "pathspec                     0.12.1\n",
      "pillow                       11.2.1\n",
      "pinecone                     7.1.0\n",
      "pinecone-plugin-assistant    1.7.0\n",
      "pinecone-plugin-interface    0.0.7\n",
      "platformdirs                 4.3.8\n",
      "playwright                   1.52.0\n",
      "pluggy                       1.6.0\n",
      "prompt-toolkit               3.0.51\n",
      "propcache                    0.3.2\n",
      "proto-plus                   1.26.1\n",
      "protobuf                     5.29.4\n",
      "psutil                       7.0.0\n",
      "pure-eval                    0.2.3\n",
      "py-cpuinfo                   9.0.0\n",
      "pyasn1                       0.6.1\n",
      "pyasn1-modules               0.4.2\n",
      "pycparser                    2.22\n",
      "pydantic                     2.11.7\n",
      "pydantic-core                2.33.2\n",
      "pydantic-settings            2.9.1\n",
      "pyee                         13.0.0\n",
      "pygments                     2.19.1\n",
      "pyjwt                        2.10.1\n",
      "pymupdf                      1.26.1\n",
      "pytest                       8.4.1\n",
      "pytest-asyncio               0.26.0\n",
      "pytest-benchmark             5.1.0\n",
      "pytest-codspeed              3.2.0\n",
      "pytest-recording             0.13.4\n",
      "pytest-socket                0.7.0\n",
      "python-dateutil              2.9.0.post0\n",
      "python-dotenv                1.1.0\n",
      "python-multipart             0.0.20\n",
      "pywin32                      310\n",
      "pyyaml                       6.0.2\n",
      "pyzmq                        27.0.0\n",
      "regex                        2024.11.6\n",
      "requests                     2.32.4\n",
      "requests-toolbelt            1.0.0\n",
      "rich                         14.0.0\n",
      "rsa                          4.9.1\n",
      "ruff                         0.9.10\n",
      "shellingham                  1.5.4\n",
      "six                          1.17.0\n",
      "sniffio                      1.3.1\n",
      "soupsieve                    2.7\n",
      "sqlalchemy                   2.0.41\n",
      "sse-starlette                2.1.3\n",
      "stack-data                   0.6.3\n",
      "starlette                    0.47.0\n",
      "structlog                    25.4.0\n",
      "syrupy                       4.9.1\n",
      "tenacity                     9.1.2\n",
      "tiktoken                     0.9.0\n",
      "tornado                      6.5.1\n",
      "tqdm                         4.67.1\n",
      "traitlets                    5.14.3\n",
      "truststore                   0.10.1\n",
      "typer                        0.16.0\n",
      "typing-extensions            4.14.0\n",
      "typing-inspect               0.9.0\n",
      "typing-inspection            0.4.1\n",
      "urllib3                      2.4.0\n",
      "uvicorn                      0.34.3\n",
      "vcrpy                        7.0.0\n",
      "watchfiles                   1.1.0\n",
      "wcwidth                      0.2.13\n",
      "websockets                   15.0.1\n",
      "wrapt                        1.17.2\n",
      "wsproto                      1.2.0\n",
      "xxhash                       3.5.0\n",
      "yarl                         1.20.1\n",
      "zstandard                    0.23.0\n"
     ]
    },
    {
     "name": "stderr",
     "output_type": "stream",
     "text": [
      "\u001b[2mUsing Python 3.13.3 environment at: C:\\cursor\\DealMakers\\langgraph_baseline\\.venv\u001b[0m\n"
     ]
    }
   ],
   "source": [
    "!uv pip list"
   ]
  },
  {
   "cell_type": "code",
   "execution_count": 2,
   "metadata": {},
   "outputs": [],
   "source": [
    "# 여기서는 안됨... 이제 되네?\n",
    "from google import genai\n"
   ]
  },
  {
   "cell_type": "code",
   "execution_count": 3,
   "metadata": {},
   "outputs": [
    {
     "data": {
      "text/plain": [
       "'c:\\\\cursor\\\\DealMakers\\\\langgraph_baseline\\\\notebook'"
      ]
     },
     "execution_count": 3,
     "metadata": {},
     "output_type": "execute_result"
    }
   ],
   "source": [
    "pwd"
   ]
  },
  {
   "cell_type": "markdown",
   "metadata": {},
   "source": [
    "### 라이브러리 Import"
   ]
  },
  {
   "cell_type": "code",
   "execution_count": 4,
   "metadata": {},
   "outputs": [
    {
     "data": {
      "text/plain": [
       "True"
      ]
     },
     "execution_count": 4,
     "metadata": {},
     "output_type": "execute_result"
    }
   ],
   "source": [
    "import asyncio # 비동기 처리를 위한 모듈\n",
    "import os # 환경변수 관리를 위한 모듈\n",
    "import sys # 시스템 관련 모듈\n",
    "import json # 데이터 처리를 위한 모듈\n",
    "from contextlib import AsyncExitStack # 비동기 컨텍스트 관리를 위한 모듈\n",
    "from typing import Optional, List  # 타입 힌트를 위한 모듈\n",
    "\n",
    "# ------------------------------------------------------------\n",
    "# MCP Client Imports\n",
    "# ------------------------------------------------------------\n",
    "from mcp import ClientSession, StdioServerParameters # MCP 클라이언트 세션 모듈\n",
    "from mcp.client.stdio import stdio_client # MCP 클라이언트 표준 입출력 모듈\n",
    "\n",
    "\n",
    "# ------------------------------------------------------------\n",
    "# Agent and LLM Imports\n",
    "# ------------------------------------------------------------\n",
    "from langchain_mcp_adapters.tools import load_mcp_tools # MCP 툴 로드 모듈\n",
    "from langgraph.prebuilt import create_react_agent\n",
    "from langchain_google_genai import ChatGoogleGenerativeAI\n",
    "\n",
    "\n",
    "# ------------------------------------------------------------\n",
    "# Environment Setup\n",
    "# ------------------------------------------------------------\n",
    "from dotenv import load_dotenv\n",
    "load_dotenv()\n",
    "\n",
    "\n",
    "\n"
   ]
  },
  {
   "cell_type": "markdown",
   "metadata": {},
   "source": [
    "### LLM"
   ]
  },
  {
   "cell_type": "code",
   "execution_count": 5,
   "metadata": {},
   "outputs": [],
   "source": [
    "# LLM Instantiation\n",
    "llm = ChatGoogleGenerativeAI(\n",
    "    model=\"gemini-2.5-flash\t\", \n",
    "    temperature=0,\n",
    "    max_retries=2, # 최대 2번 재시도\n",
    "    api_key=os.getenv(\"GOOGLE_API_KEY\"),\n",
    ")\n"
   ]
  },
  {
   "cell_type": "markdown",
   "metadata": {},
   "source": [
    "# MCP Server"
   ]
  },
  {
   "cell_type": "markdown",
   "metadata": {},
   "source": [
    "#### MCP Server Script Argument\n",
    "\n",
    "Command Line(명령줄)에서 프로그램을 실행할 때 추가적인 정보를 받아 처리하는 부분\n"
   ]
  },
  {
   "cell_type": "code",
   "execution_count": 4,
   "metadata": {},
   "outputs": [],
   "source": [
    "if len(sys.argv) < 2:\n",
    "    print(\"Usage: python client_langchain_google_genai_bind_tools.py <path_to_server_script>\")\n",
    "    sys.exit(1)\n",
    "        # 프로그램 즉시 종료\n",
    "server_script = sys.argv[1]"
   ]
  },
  {
   "cell_type": "markdown",
   "metadata": {},
   "source": [
    "~.py라는 파이썬 스크립트를 실행할 때, 반드시 서버 스크립트의 경로를 인자로 전달해야하는 것을 강제하는 역할"
   ]
  },
  {
   "cell_type": "markdown",
   "metadata": {},
   "source": [
    "## MCP Server Parameters\n",
    "- Configure parameters to launch the MCP server."
   ]
  },
  {
   "cell_type": "code",
   "execution_count": null,
   "metadata": {},
   "outputs": [],
   "source": [
    "server_params = StdioServerParameters(\n",
    "    command=\"python\" if server_script.endswith(\".py\") else \"node\",\n",
    "        # server_script 변수에 저장된 파일 이름이 .py로 끝나는지 확인해서 맞다면 -> \"python\" 아니면 -> \"node\"\n",
    "    args=[server_script],\n",
    "        # server_script ( = 실행할 스크립트 파일 경로)를 리스트에 담아 전달\n",
    ")\n",
    "\n",
    "# 활성 MCP 세션을 보유할 전역 변수\n",
    "# 도구 어댑터에서 사용하기 위한 \"세션\" 속성을 가진 간단한 홀더\n",
    "mcp_client = None\n"
   ]
  },
  {
   "cell_type": "markdown",
   "metadata": {},
   "source": [
    "# MCP Client\n",
    "- 미리 server를 실행시켜놔야함."
   ]
  },
  {
   "cell_type": "markdown",
   "metadata": {},
   "source": [
    "### 공식 문서"
   ]
  },
  {
   "cell_type": "code",
   "execution_count": 8,
   "metadata": {},
   "outputs": [
    {
     "ename": "NotImplementedError",
     "evalue": "",
     "output_type": "error",
     "traceback": [
      "\u001b[31m---------------------------------------------------------------------------\u001b[39m",
      "\u001b[31mNotImplementedError\u001b[39m                       Traceback (most recent call last)",
      "\u001b[36mFile \u001b[39m\u001b[32mc:\\cursor\\DealMakers\\langgraph_baseline\\.venv\\Lib\\site-packages\\mcp\\client\\stdio\\win32.py:72\u001b[39m, in \u001b[36mcreate_windows_process\u001b[39m\u001b[34m(command, args, env, errlog, cwd)\u001b[39m\n\u001b[32m     70\u001b[39m \u001b[38;5;28;01mtry\u001b[39;00m:\n\u001b[32m     71\u001b[39m     \u001b[38;5;66;03m# Try with Windows-specific flags to hide console window\u001b[39;00m\n\u001b[32m---> \u001b[39m\u001b[32m72\u001b[39m     process = \u001b[38;5;28;01mawait\u001b[39;00m anyio.open_process(\n\u001b[32m     73\u001b[39m         [command, *args],\n\u001b[32m     74\u001b[39m         env=env,\n\u001b[32m     75\u001b[39m         \u001b[38;5;66;03m# Ensure we don't create console windows for each process\u001b[39;00m\n\u001b[32m     76\u001b[39m         creationflags=subprocess.CREATE_NO_WINDOW  \u001b[38;5;66;03m# type: ignore\u001b[39;00m\n\u001b[32m     77\u001b[39m         \u001b[38;5;28;01mif\u001b[39;00m \u001b[38;5;28mhasattr\u001b[39m(subprocess, \u001b[33m\"\u001b[39m\u001b[33mCREATE_NO_WINDOW\u001b[39m\u001b[33m\"\u001b[39m)\n\u001b[32m     78\u001b[39m         \u001b[38;5;28;01melse\u001b[39;00m \u001b[32m0\u001b[39m,\n\u001b[32m     79\u001b[39m         stderr=errlog,\n\u001b[32m     80\u001b[39m         cwd=cwd,\n\u001b[32m     81\u001b[39m     )\n\u001b[32m     82\u001b[39m     \u001b[38;5;28;01mreturn\u001b[39;00m process\n",
      "\u001b[36mFile \u001b[39m\u001b[32mc:\\cursor\\DealMakers\\langgraph_baseline\\.venv\\Lib\\site-packages\\anyio\\_core\\_subprocesses.py:190\u001b[39m, in \u001b[36mopen_process\u001b[39m\u001b[34m(command, stdin, stdout, stderr, cwd, env, startupinfo, creationflags, start_new_session, pass_fds, user, group, extra_groups, umask)\u001b[39m\n\u001b[32m    188\u001b[39m     kwargs[\u001b[33m\"\u001b[39m\u001b[33mumask\u001b[39m\u001b[33m\"\u001b[39m] = umask\n\u001b[32m--> \u001b[39m\u001b[32m190\u001b[39m \u001b[38;5;28;01mreturn\u001b[39;00m \u001b[38;5;28;01mawait\u001b[39;00m get_async_backend().open_process(\n\u001b[32m    191\u001b[39m     command,\n\u001b[32m    192\u001b[39m     stdin=stdin,\n\u001b[32m    193\u001b[39m     stdout=stdout,\n\u001b[32m    194\u001b[39m     stderr=stderr,\n\u001b[32m    195\u001b[39m     cwd=cwd,\n\u001b[32m    196\u001b[39m     env=env,\n\u001b[32m    197\u001b[39m     startupinfo=startupinfo,\n\u001b[32m    198\u001b[39m     creationflags=creationflags,\n\u001b[32m    199\u001b[39m     start_new_session=start_new_session,\n\u001b[32m    200\u001b[39m     pass_fds=pass_fds,\n\u001b[32m    201\u001b[39m     **kwargs,\n\u001b[32m    202\u001b[39m )\n",
      "\u001b[36mFile \u001b[39m\u001b[32mc:\\cursor\\DealMakers\\langgraph_baseline\\.venv\\Lib\\site-packages\\anyio\\_backends\\_asyncio.py:2561\u001b[39m, in \u001b[36mAsyncIOBackend.open_process\u001b[39m\u001b[34m(cls, command, stdin, stdout, stderr, **kwargs)\u001b[39m\n\u001b[32m   2560\u001b[39m \u001b[38;5;28;01melse\u001b[39;00m:\n\u001b[32m-> \u001b[39m\u001b[32m2561\u001b[39m     process = \u001b[38;5;28;01mawait\u001b[39;00m asyncio.create_subprocess_exec(\n\u001b[32m   2562\u001b[39m         *command,\n\u001b[32m   2563\u001b[39m         stdin=stdin,\n\u001b[32m   2564\u001b[39m         stdout=stdout,\n\u001b[32m   2565\u001b[39m         stderr=stderr,\n\u001b[32m   2566\u001b[39m         **kwargs,\n\u001b[32m   2567\u001b[39m     )\n\u001b[32m   2569\u001b[39m stdin_stream = StreamWriterWrapper(process.stdin) \u001b[38;5;28;01mif\u001b[39;00m process.stdin \u001b[38;5;28;01melse\u001b[39;00m \u001b[38;5;28;01mNone\u001b[39;00m\n",
      "\u001b[36mFile \u001b[39m\u001b[32m~\\AppData\\Roaming\\uv\\python\\cpython-3.13.3-windows-x86_64-none\\Lib\\asyncio\\subprocess.py:224\u001b[39m, in \u001b[36mcreate_subprocess_exec\u001b[39m\u001b[34m(program, stdin, stdout, stderr, limit, *args, **kwds)\u001b[39m\n\u001b[32m    222\u001b[39m protocol_factory = \u001b[38;5;28;01mlambda\u001b[39;00m: SubprocessStreamProtocol(limit=limit,\n\u001b[32m    223\u001b[39m                                                     loop=loop)\n\u001b[32m--> \u001b[39m\u001b[32m224\u001b[39m transport, protocol = \u001b[38;5;28;01mawait\u001b[39;00m loop.subprocess_exec(\n\u001b[32m    225\u001b[39m     protocol_factory,\n\u001b[32m    226\u001b[39m     program, *args,\n\u001b[32m    227\u001b[39m     stdin=stdin, stdout=stdout,\n\u001b[32m    228\u001b[39m     stderr=stderr, **kwds)\n\u001b[32m    229\u001b[39m \u001b[38;5;28;01mreturn\u001b[39;00m Process(transport, protocol, loop)\n",
      "\u001b[36mFile \u001b[39m\u001b[32m~\\AppData\\Roaming\\uv\\python\\cpython-3.13.3-windows-x86_64-none\\Lib\\asyncio\\base_events.py:1788\u001b[39m, in \u001b[36mBaseEventLoop.subprocess_exec\u001b[39m\u001b[34m(self, protocol_factory, program, stdin, stdout, stderr, universal_newlines, shell, bufsize, encoding, errors, text, *args, **kwargs)\u001b[39m\n\u001b[32m   1787\u001b[39m     \u001b[38;5;28mself\u001b[39m._log_subprocess(debug_log, stdin, stdout, stderr)\n\u001b[32m-> \u001b[39m\u001b[32m1788\u001b[39m transport = \u001b[38;5;28;01mawait\u001b[39;00m \u001b[38;5;28mself\u001b[39m._make_subprocess_transport(\n\u001b[32m   1789\u001b[39m     protocol, popen_args, \u001b[38;5;28;01mFalse\u001b[39;00m, stdin, stdout, stderr,\n\u001b[32m   1790\u001b[39m     bufsize, **kwargs)\n\u001b[32m   1791\u001b[39m \u001b[38;5;28;01mif\u001b[39;00m \u001b[38;5;28mself\u001b[39m._debug \u001b[38;5;129;01mand\u001b[39;00m debug_log \u001b[38;5;129;01mis\u001b[39;00m \u001b[38;5;129;01mnot\u001b[39;00m \u001b[38;5;28;01mNone\u001b[39;00m:\n",
      "\u001b[36mFile \u001b[39m\u001b[32m~\\AppData\\Roaming\\uv\\python\\cpython-3.13.3-windows-x86_64-none\\Lib\\asyncio\\base_events.py:533\u001b[39m, in \u001b[36mBaseEventLoop._make_subprocess_transport\u001b[39m\u001b[34m(self, protocol, args, shell, stdin, stdout, stderr, bufsize, extra, **kwargs)\u001b[39m\n\u001b[32m    532\u001b[39m \u001b[38;5;250m\u001b[39m\u001b[33;03m\"\"\"Create subprocess transport.\"\"\"\u001b[39;00m\n\u001b[32m--> \u001b[39m\u001b[32m533\u001b[39m \u001b[38;5;28;01mraise\u001b[39;00m \u001b[38;5;167;01mNotImplementedError\u001b[39;00m\n",
      "\u001b[31mNotImplementedError\u001b[39m: ",
      "\nDuring handling of the above exception, another exception occurred:\n",
      "\u001b[31mNotImplementedError\u001b[39m                       Traceback (most recent call last)",
      "\u001b[36mCell\u001b[39m\u001b[36m \u001b[39m\u001b[32mIn[8]\u001b[39m\u001b[32m, line 18\u001b[39m\n\u001b[32m      9\u001b[39m server_params = StdioServerParameters(\n\u001b[32m     10\u001b[39m     command=\u001b[33m\"\u001b[39m\u001b[33mpython\u001b[39m\u001b[33m\"\u001b[39m,\n\u001b[32m     11\u001b[39m     \u001b[38;5;66;03m# 이렇게 경로를 적으면 됨\u001b[39;00m\n\u001b[32m     12\u001b[39m     \u001b[38;5;66;03m# args=[\"/path/to/server_script.py\"],\u001b[39;00m\n\u001b[32m     13\u001b[39m     args=[\u001b[33m\"\u001b[39m\u001b[33mC:\u001b[39m\u001b[38;5;130;01m\\\\\u001b[39;00m\u001b[33mcursor\u001b[39m\u001b[38;5;130;01m\\\\\u001b[39;00m\u001b[33mDealMakers\u001b[39m\u001b[38;5;130;01m\\\\\u001b[39;00m\u001b[33mlanggraph_baseline\u001b[39m\u001b[38;5;130;01m\\\\\u001b[39;00m\u001b[33mnotebook\u001b[39m\u001b[38;5;130;01m\\\\\u001b[39;00m\u001b[33mserver\u001b[39m\u001b[38;5;130;01m\\\\\u001b[39;00m\u001b[33mmcp_rag.py\u001b[39m\u001b[33m\"\u001b[39m],\n\u001b[32m     14\u001b[39m )\n\u001b[32m     17\u001b[39m \u001b[38;5;66;03m# Stdio 클라이언트를 사용하여 RAG 서버와 통신\u001b[39;00m\n\u001b[32m---> \u001b[39m\u001b[32m18\u001b[39m \u001b[38;5;28;01masync\u001b[39;00m \u001b[38;5;28;01mwith\u001b[39;00m stdio_client(server_params) \u001b[38;5;28;01mas\u001b[39;00m (read, write):\n\u001b[32m     19\u001b[39m     \u001b[38;5;66;03m# 클라이언트 세션 생성\u001b[39;00m\n\u001b[32m     20\u001b[39m     \u001b[38;5;28;01masync\u001b[39;00m \u001b[38;5;28;01mwith\u001b[39;00m ClientSession(read, write) \u001b[38;5;28;01mas\u001b[39;00m session:\n\u001b[32m     21\u001b[39m \n\u001b[32m     22\u001b[39m         \u001b[38;5;66;03m# Initialize the connection(연결 초기화)\u001b[39;00m\n\u001b[32m     23\u001b[39m         \u001b[38;5;28;01mawait\u001b[39;00m session.initialize()\n",
      "\u001b[36mFile \u001b[39m\u001b[32m~\\AppData\\Roaming\\uv\\python\\cpython-3.13.3-windows-x86_64-none\\Lib\\contextlib.py:214\u001b[39m, in \u001b[36m_AsyncGeneratorContextManager.__aenter__\u001b[39m\u001b[34m(self)\u001b[39m\n\u001b[32m    212\u001b[39m \u001b[38;5;28;01mdel\u001b[39;00m \u001b[38;5;28mself\u001b[39m.args, \u001b[38;5;28mself\u001b[39m.kwds, \u001b[38;5;28mself\u001b[39m.func\n\u001b[32m    213\u001b[39m \u001b[38;5;28;01mtry\u001b[39;00m:\n\u001b[32m--> \u001b[39m\u001b[32m214\u001b[39m     \u001b[38;5;28;01mreturn\u001b[39;00m \u001b[38;5;28;01mawait\u001b[39;00m anext(\u001b[38;5;28mself\u001b[39m.gen)\n\u001b[32m    215\u001b[39m \u001b[38;5;28;01mexcept\u001b[39;00m \u001b[38;5;167;01mStopAsyncIteration\u001b[39;00m:\n\u001b[32m    216\u001b[39m     \u001b[38;5;28;01mraise\u001b[39;00m \u001b[38;5;167;01mRuntimeError\u001b[39;00m(\u001b[33m\"\u001b[39m\u001b[33mgenerator didn\u001b[39m\u001b[33m'\u001b[39m\u001b[33mt yield\u001b[39m\u001b[33m\"\u001b[39m) \u001b[38;5;28;01mfrom\u001b[39;00m\u001b[38;5;250m \u001b[39m\u001b[38;5;28;01mNone\u001b[39;00m\n",
      "\u001b[36mFile \u001b[39m\u001b[32mc:\\cursor\\DealMakers\\langgraph_baseline\\.venv\\Lib\\site-packages\\mcp\\client\\stdio\\__init__.py:115\u001b[39m, in \u001b[36mstdio_client\u001b[39m\u001b[34m(server, errlog)\u001b[39m\n\u001b[32m    112\u001b[39m     command = _get_executable_command(server.command)\n\u001b[32m    114\u001b[39m     \u001b[38;5;66;03m# Open process with stderr piped for capture\u001b[39;00m\n\u001b[32m--> \u001b[39m\u001b[32m115\u001b[39m     process = \u001b[38;5;28;01mawait\u001b[39;00m _create_platform_compatible_process(\n\u001b[32m    116\u001b[39m         command=command,\n\u001b[32m    117\u001b[39m         args=server.args,\n\u001b[32m    118\u001b[39m         env=({**get_default_environment(), **server.env} \u001b[38;5;28;01mif\u001b[39;00m server.env \u001b[38;5;129;01mis\u001b[39;00m \u001b[38;5;129;01mnot\u001b[39;00m \u001b[38;5;28;01mNone\u001b[39;00m \u001b[38;5;28;01melse\u001b[39;00m get_default_environment()),\n\u001b[32m    119\u001b[39m         errlog=errlog,\n\u001b[32m    120\u001b[39m         cwd=server.cwd,\n\u001b[32m    121\u001b[39m     )\n\u001b[32m    122\u001b[39m \u001b[38;5;28;01mexcept\u001b[39;00m \u001b[38;5;167;01mOSError\u001b[39;00m:\n\u001b[32m    123\u001b[39m     \u001b[38;5;66;03m# Clean up streams if process creation fails\u001b[39;00m\n\u001b[32m    124\u001b[39m     \u001b[38;5;28;01mawait\u001b[39;00m read_stream.aclose()\n",
      "\u001b[36mFile \u001b[39m\u001b[32mc:\\cursor\\DealMakers\\langgraph_baseline\\.venv\\Lib\\site-packages\\mcp\\client\\stdio\\__init__.py:224\u001b[39m, in \u001b[36m_create_platform_compatible_process\u001b[39m\u001b[34m(command, args, env, errlog, cwd)\u001b[39m\n\u001b[32m    219\u001b[39m \u001b[38;5;250m\u001b[39m\u001b[33;03m\"\"\"\u001b[39;00m\n\u001b[32m    220\u001b[39m \u001b[33;03mCreates a subprocess in a platform-compatible way.\u001b[39;00m\n\u001b[32m    221\u001b[39m \u001b[33;03mReturns a process handle.\u001b[39;00m\n\u001b[32m    222\u001b[39m \u001b[33;03m\"\"\"\u001b[39;00m\n\u001b[32m    223\u001b[39m \u001b[38;5;28;01mif\u001b[39;00m sys.platform == \u001b[33m\"\u001b[39m\u001b[33mwin32\u001b[39m\u001b[33m\"\u001b[39m:\n\u001b[32m--> \u001b[39m\u001b[32m224\u001b[39m     process = \u001b[38;5;28;01mawait\u001b[39;00m create_windows_process(command, args, env, errlog, cwd)\n\u001b[32m    225\u001b[39m \u001b[38;5;28;01melse\u001b[39;00m:\n\u001b[32m    226\u001b[39m     process = \u001b[38;5;28;01mawait\u001b[39;00m anyio.open_process([command, *args], env=env, stderr=errlog, cwd=cwd)\n",
      "\u001b[36mFile \u001b[39m\u001b[32mc:\\cursor\\DealMakers\\langgraph_baseline\\.venv\\Lib\\site-packages\\mcp\\client\\stdio\\win32.py:85\u001b[39m, in \u001b[36mcreate_windows_process\u001b[39m\u001b[34m(command, args, env, errlog, cwd)\u001b[39m\n\u001b[32m     82\u001b[39m     \u001b[38;5;28;01mreturn\u001b[39;00m process\n\u001b[32m     83\u001b[39m \u001b[38;5;28;01mexcept\u001b[39;00m \u001b[38;5;167;01mException\u001b[39;00m:\n\u001b[32m     84\u001b[39m     \u001b[38;5;66;03m# Don't raise, let's try to create the process without creation flags\u001b[39;00m\n\u001b[32m---> \u001b[39m\u001b[32m85\u001b[39m     process = \u001b[38;5;28;01mawait\u001b[39;00m anyio.open_process([command, *args], env=env, stderr=errlog, cwd=cwd)\n\u001b[32m     86\u001b[39m     \u001b[38;5;28;01mreturn\u001b[39;00m process\n",
      "\u001b[36mFile \u001b[39m\u001b[32mc:\\cursor\\DealMakers\\langgraph_baseline\\.venv\\Lib\\site-packages\\anyio\\_core\\_subprocesses.py:190\u001b[39m, in \u001b[36mopen_process\u001b[39m\u001b[34m(command, stdin, stdout, stderr, cwd, env, startupinfo, creationflags, start_new_session, pass_fds, user, group, extra_groups, umask)\u001b[39m\n\u001b[32m    187\u001b[39m \u001b[38;5;28;01mif\u001b[39;00m umask >= \u001b[32m0\u001b[39m:\n\u001b[32m    188\u001b[39m     kwargs[\u001b[33m\"\u001b[39m\u001b[33mumask\u001b[39m\u001b[33m\"\u001b[39m] = umask\n\u001b[32m--> \u001b[39m\u001b[32m190\u001b[39m \u001b[38;5;28;01mreturn\u001b[39;00m \u001b[38;5;28;01mawait\u001b[39;00m get_async_backend().open_process(\n\u001b[32m    191\u001b[39m     command,\n\u001b[32m    192\u001b[39m     stdin=stdin,\n\u001b[32m    193\u001b[39m     stdout=stdout,\n\u001b[32m    194\u001b[39m     stderr=stderr,\n\u001b[32m    195\u001b[39m     cwd=cwd,\n\u001b[32m    196\u001b[39m     env=env,\n\u001b[32m    197\u001b[39m     startupinfo=startupinfo,\n\u001b[32m    198\u001b[39m     creationflags=creationflags,\n\u001b[32m    199\u001b[39m     start_new_session=start_new_session,\n\u001b[32m    200\u001b[39m     pass_fds=pass_fds,\n\u001b[32m    201\u001b[39m     **kwargs,\n\u001b[32m    202\u001b[39m )\n",
      "\u001b[36mFile \u001b[39m\u001b[32mc:\\cursor\\DealMakers\\langgraph_baseline\\.venv\\Lib\\site-packages\\anyio\\_backends\\_asyncio.py:2561\u001b[39m, in \u001b[36mAsyncIOBackend.open_process\u001b[39m\u001b[34m(cls, command, stdin, stdout, stderr, **kwargs)\u001b[39m\n\u001b[32m   2553\u001b[39m     process = \u001b[38;5;28;01mawait\u001b[39;00m asyncio.create_subprocess_shell(\n\u001b[32m   2554\u001b[39m         command,\n\u001b[32m   2555\u001b[39m         stdin=stdin,\n\u001b[32m   (...)\u001b[39m\u001b[32m   2558\u001b[39m         **kwargs,\n\u001b[32m   2559\u001b[39m     )\n\u001b[32m   2560\u001b[39m \u001b[38;5;28;01melse\u001b[39;00m:\n\u001b[32m-> \u001b[39m\u001b[32m2561\u001b[39m     process = \u001b[38;5;28;01mawait\u001b[39;00m asyncio.create_subprocess_exec(\n\u001b[32m   2562\u001b[39m         *command,\n\u001b[32m   2563\u001b[39m         stdin=stdin,\n\u001b[32m   2564\u001b[39m         stdout=stdout,\n\u001b[32m   2565\u001b[39m         stderr=stderr,\n\u001b[32m   2566\u001b[39m         **kwargs,\n\u001b[32m   2567\u001b[39m     )\n\u001b[32m   2569\u001b[39m stdin_stream = StreamWriterWrapper(process.stdin) \u001b[38;5;28;01mif\u001b[39;00m process.stdin \u001b[38;5;28;01melse\u001b[39;00m \u001b[38;5;28;01mNone\u001b[39;00m\n\u001b[32m   2570\u001b[39m stdout_stream = StreamReaderWrapper(process.stdout) \u001b[38;5;28;01mif\u001b[39;00m process.stdout \u001b[38;5;28;01melse\u001b[39;00m \u001b[38;5;28;01mNone\u001b[39;00m\n",
      "\u001b[36mFile \u001b[39m\u001b[32m~\\AppData\\Roaming\\uv\\python\\cpython-3.13.3-windows-x86_64-none\\Lib\\asyncio\\subprocess.py:224\u001b[39m, in \u001b[36mcreate_subprocess_exec\u001b[39m\u001b[34m(program, stdin, stdout, stderr, limit, *args, **kwds)\u001b[39m\n\u001b[32m    221\u001b[39m loop = events.get_running_loop()\n\u001b[32m    222\u001b[39m protocol_factory = \u001b[38;5;28;01mlambda\u001b[39;00m: SubprocessStreamProtocol(limit=limit,\n\u001b[32m    223\u001b[39m                                                     loop=loop)\n\u001b[32m--> \u001b[39m\u001b[32m224\u001b[39m transport, protocol = \u001b[38;5;28;01mawait\u001b[39;00m loop.subprocess_exec(\n\u001b[32m    225\u001b[39m     protocol_factory,\n\u001b[32m    226\u001b[39m     program, *args,\n\u001b[32m    227\u001b[39m     stdin=stdin, stdout=stdout,\n\u001b[32m    228\u001b[39m     stderr=stderr, **kwds)\n\u001b[32m    229\u001b[39m \u001b[38;5;28;01mreturn\u001b[39;00m Process(transport, protocol, loop)\n",
      "\u001b[36mFile \u001b[39m\u001b[32m~\\AppData\\Roaming\\uv\\python\\cpython-3.13.3-windows-x86_64-none\\Lib\\asyncio\\base_events.py:1788\u001b[39m, in \u001b[36mBaseEventLoop.subprocess_exec\u001b[39m\u001b[34m(self, protocol_factory, program, stdin, stdout, stderr, universal_newlines, shell, bufsize, encoding, errors, text, *args, **kwargs)\u001b[39m\n\u001b[32m   1786\u001b[39m     debug_log = \u001b[33mf\u001b[39m\u001b[33m'\u001b[39m\u001b[33mexecute program \u001b[39m\u001b[38;5;132;01m{\u001b[39;00mprogram\u001b[38;5;132;01m!r}\u001b[39;00m\u001b[33m'\u001b[39m\n\u001b[32m   1787\u001b[39m     \u001b[38;5;28mself\u001b[39m._log_subprocess(debug_log, stdin, stdout, stderr)\n\u001b[32m-> \u001b[39m\u001b[32m1788\u001b[39m transport = \u001b[38;5;28;01mawait\u001b[39;00m \u001b[38;5;28mself\u001b[39m._make_subprocess_transport(\n\u001b[32m   1789\u001b[39m     protocol, popen_args, \u001b[38;5;28;01mFalse\u001b[39;00m, stdin, stdout, stderr,\n\u001b[32m   1790\u001b[39m     bufsize, **kwargs)\n\u001b[32m   1791\u001b[39m \u001b[38;5;28;01mif\u001b[39;00m \u001b[38;5;28mself\u001b[39m._debug \u001b[38;5;129;01mand\u001b[39;00m debug_log \u001b[38;5;129;01mis\u001b[39;00m \u001b[38;5;129;01mnot\u001b[39;00m \u001b[38;5;28;01mNone\u001b[39;00m:\n\u001b[32m   1792\u001b[39m     logger.info(\u001b[33m'\u001b[39m\u001b[38;5;132;01m%s\u001b[39;00m\u001b[33m: \u001b[39m\u001b[38;5;132;01m%r\u001b[39;00m\u001b[33m'\u001b[39m, debug_log, transport)\n",
      "\u001b[36mFile \u001b[39m\u001b[32m~\\AppData\\Roaming\\uv\\python\\cpython-3.13.3-windows-x86_64-none\\Lib\\asyncio\\base_events.py:533\u001b[39m, in \u001b[36mBaseEventLoop._make_subprocess_transport\u001b[39m\u001b[34m(self, protocol, args, shell, stdin, stdout, stderr, bufsize, extra, **kwargs)\u001b[39m\n\u001b[32m    529\u001b[39m \u001b[38;5;28;01masync\u001b[39;00m \u001b[38;5;28;01mdef\u001b[39;00m\u001b[38;5;250m \u001b[39m\u001b[34m_make_subprocess_transport\u001b[39m(\u001b[38;5;28mself\u001b[39m, protocol, args, shell,\n\u001b[32m    530\u001b[39m                                      stdin, stdout, stderr, bufsize,\n\u001b[32m    531\u001b[39m                                      extra=\u001b[38;5;28;01mNone\u001b[39;00m, **kwargs):\n\u001b[32m    532\u001b[39m \u001b[38;5;250m    \u001b[39m\u001b[33;03m\"\"\"Create subprocess transport.\"\"\"\u001b[39;00m\n\u001b[32m--> \u001b[39m\u001b[32m533\u001b[39m     \u001b[38;5;28;01mraise\u001b[39;00m \u001b[38;5;167;01mNotImplementedError\u001b[39;00m\n",
      "\u001b[31mNotImplementedError\u001b[39m: "
     ]
    }
   ],
   "source": [
    "# Create server parameters for stdio connection\n",
    "from mcp import ClientSession, StdioServerParameters\n",
    "from mcp.client.stdio import stdio_client\n",
    "\n",
    "from langchain_mcp_adapters.tools import load_mcp_tools\n",
    "from langgraph.prebuilt import create_react_agent\n",
    "\n",
    "\n",
    "server_params = StdioServerParameters(\n",
    "    command=\"python\",\n",
    "    # args=[\"/path/to/server_script.py\"],\n",
    "    args=[\"C:\\cursor\\DealMakers\\langgraph_baseline\\notebook\\server.py\"],\n",
    ")\n",
    "\n",
    "\n",
    "\n",
    "async with stdio_client(server_params) as (read, write):\n",
    "    async with ClientSession(read, write) as session:\n",
    "        \n",
    "        # Initialize the connection\n",
    "        await session.initialize()\n",
    "\n",
    "        # Get tools\n",
    "        tools = await load_mcp_tools(session)\n",
    "        \n",
    "        # Create and run the agent\n",
    "        agent = create_react_agent(llm, tools)\n",
    "        agent_response = await agent.ainvoke({\"messages\": \"Hello, how are you?\"})\n",
    "\n"
   ]
  },
  {
   "cell_type": "code",
   "execution_count": null,
   "metadata": {},
   "outputs": [],
   "source": [
    "for message in agent_response['messages']:\n",
    "    message.pretty_print()"
   ]
  },
  {
   "cell_type": "code",
   "execution_count": null,
   "metadata": {},
   "outputs": [
    {
     "ename": "NotImplementedError",
     "evalue": "",
     "output_type": "error",
     "traceback": [
      "\u001b[31m---------------------------------------------------------------------------\u001b[39m",
      "\u001b[31mNotImplementedError\u001b[39m                       Traceback (most recent call last)",
      "\u001b[36mFile \u001b[39m\u001b[32mc:\\cursor\\DealMakers\\langgraph_baseline\\.venv\\Lib\\site-packages\\mcp\\client\\stdio\\win32.py:72\u001b[39m, in \u001b[36mcreate_windows_process\u001b[39m\u001b[34m(command, args, env, errlog, cwd)\u001b[39m\n\u001b[32m     70\u001b[39m \u001b[38;5;28;01mtry\u001b[39;00m:\n\u001b[32m     71\u001b[39m     \u001b[38;5;66;03m# Try with Windows-specific flags to hide console window\u001b[39;00m\n\u001b[32m---> \u001b[39m\u001b[32m72\u001b[39m     process = \u001b[38;5;28;01mawait\u001b[39;00m anyio.open_process(\n\u001b[32m     73\u001b[39m         [command, *args],\n\u001b[32m     74\u001b[39m         env=env,\n\u001b[32m     75\u001b[39m         \u001b[38;5;66;03m# Ensure we don't create console windows for each process\u001b[39;00m\n\u001b[32m     76\u001b[39m         creationflags=subprocess.CREATE_NO_WINDOW  \u001b[38;5;66;03m# type: ignore\u001b[39;00m\n\u001b[32m     77\u001b[39m         \u001b[38;5;28;01mif\u001b[39;00m \u001b[38;5;28mhasattr\u001b[39m(subprocess, \u001b[33m\"\u001b[39m\u001b[33mCREATE_NO_WINDOW\u001b[39m\u001b[33m\"\u001b[39m)\n\u001b[32m     78\u001b[39m         \u001b[38;5;28;01melse\u001b[39;00m \u001b[32m0\u001b[39m,\n\u001b[32m     79\u001b[39m         stderr=errlog,\n\u001b[32m     80\u001b[39m         cwd=cwd,\n\u001b[32m     81\u001b[39m     )\n\u001b[32m     82\u001b[39m     \u001b[38;5;28;01mreturn\u001b[39;00m process\n",
      "\u001b[36mFile \u001b[39m\u001b[32mc:\\cursor\\DealMakers\\langgraph_baseline\\.venv\\Lib\\site-packages\\anyio\\_core\\_subprocesses.py:190\u001b[39m, in \u001b[36mopen_process\u001b[39m\u001b[34m(command, stdin, stdout, stderr, cwd, env, startupinfo, creationflags, start_new_session, pass_fds, user, group, extra_groups, umask)\u001b[39m\n\u001b[32m    188\u001b[39m     kwargs[\u001b[33m\"\u001b[39m\u001b[33mumask\u001b[39m\u001b[33m\"\u001b[39m] = umask\n\u001b[32m--> \u001b[39m\u001b[32m190\u001b[39m \u001b[38;5;28;01mreturn\u001b[39;00m \u001b[38;5;28;01mawait\u001b[39;00m get_async_backend().open_process(\n\u001b[32m    191\u001b[39m     command,\n\u001b[32m    192\u001b[39m     stdin=stdin,\n\u001b[32m    193\u001b[39m     stdout=stdout,\n\u001b[32m    194\u001b[39m     stderr=stderr,\n\u001b[32m    195\u001b[39m     cwd=cwd,\n\u001b[32m    196\u001b[39m     env=env,\n\u001b[32m    197\u001b[39m     startupinfo=startupinfo,\n\u001b[32m    198\u001b[39m     creationflags=creationflags,\n\u001b[32m    199\u001b[39m     start_new_session=start_new_session,\n\u001b[32m    200\u001b[39m     pass_fds=pass_fds,\n\u001b[32m    201\u001b[39m     **kwargs,\n\u001b[32m    202\u001b[39m )\n",
      "\u001b[36mFile \u001b[39m\u001b[32mc:\\cursor\\DealMakers\\langgraph_baseline\\.venv\\Lib\\site-packages\\anyio\\_backends\\_asyncio.py:2561\u001b[39m, in \u001b[36mAsyncIOBackend.open_process\u001b[39m\u001b[34m(cls, command, stdin, stdout, stderr, **kwargs)\u001b[39m\n\u001b[32m   2560\u001b[39m \u001b[38;5;28;01melse\u001b[39;00m:\n\u001b[32m-> \u001b[39m\u001b[32m2561\u001b[39m     process = \u001b[38;5;28;01mawait\u001b[39;00m asyncio.create_subprocess_exec(\n\u001b[32m   2562\u001b[39m         *command,\n\u001b[32m   2563\u001b[39m         stdin=stdin,\n\u001b[32m   2564\u001b[39m         stdout=stdout,\n\u001b[32m   2565\u001b[39m         stderr=stderr,\n\u001b[32m   2566\u001b[39m         **kwargs,\n\u001b[32m   2567\u001b[39m     )\n\u001b[32m   2569\u001b[39m stdin_stream = StreamWriterWrapper(process.stdin) \u001b[38;5;28;01mif\u001b[39;00m process.stdin \u001b[38;5;28;01melse\u001b[39;00m \u001b[38;5;28;01mNone\u001b[39;00m\n",
      "\u001b[36mFile \u001b[39m\u001b[32m~\\AppData\\Roaming\\uv\\python\\cpython-3.13.3-windows-x86_64-none\\Lib\\asyncio\\subprocess.py:224\u001b[39m, in \u001b[36mcreate_subprocess_exec\u001b[39m\u001b[34m(program, stdin, stdout, stderr, limit, *args, **kwds)\u001b[39m\n\u001b[32m    222\u001b[39m protocol_factory = \u001b[38;5;28;01mlambda\u001b[39;00m: SubprocessStreamProtocol(limit=limit,\n\u001b[32m    223\u001b[39m                                                     loop=loop)\n\u001b[32m--> \u001b[39m\u001b[32m224\u001b[39m transport, protocol = \u001b[38;5;28;01mawait\u001b[39;00m loop.subprocess_exec(\n\u001b[32m    225\u001b[39m     protocol_factory,\n\u001b[32m    226\u001b[39m     program, *args,\n\u001b[32m    227\u001b[39m     stdin=stdin, stdout=stdout,\n\u001b[32m    228\u001b[39m     stderr=stderr, **kwds)\n\u001b[32m    229\u001b[39m \u001b[38;5;28;01mreturn\u001b[39;00m Process(transport, protocol, loop)\n",
      "\u001b[36mFile \u001b[39m\u001b[32m~\\AppData\\Roaming\\uv\\python\\cpython-3.13.3-windows-x86_64-none\\Lib\\asyncio\\base_events.py:1788\u001b[39m, in \u001b[36mBaseEventLoop.subprocess_exec\u001b[39m\u001b[34m(self, protocol_factory, program, stdin, stdout, stderr, universal_newlines, shell, bufsize, encoding, errors, text, *args, **kwargs)\u001b[39m\n\u001b[32m   1787\u001b[39m     \u001b[38;5;28mself\u001b[39m._log_subprocess(debug_log, stdin, stdout, stderr)\n\u001b[32m-> \u001b[39m\u001b[32m1788\u001b[39m transport = \u001b[38;5;28;01mawait\u001b[39;00m \u001b[38;5;28mself\u001b[39m._make_subprocess_transport(\n\u001b[32m   1789\u001b[39m     protocol, popen_args, \u001b[38;5;28;01mFalse\u001b[39;00m, stdin, stdout, stderr,\n\u001b[32m   1790\u001b[39m     bufsize, **kwargs)\n\u001b[32m   1791\u001b[39m \u001b[38;5;28;01mif\u001b[39;00m \u001b[38;5;28mself\u001b[39m._debug \u001b[38;5;129;01mand\u001b[39;00m debug_log \u001b[38;5;129;01mis\u001b[39;00m \u001b[38;5;129;01mnot\u001b[39;00m \u001b[38;5;28;01mNone\u001b[39;00m:\n",
      "\u001b[36mFile \u001b[39m\u001b[32m~\\AppData\\Roaming\\uv\\python\\cpython-3.13.3-windows-x86_64-none\\Lib\\asyncio\\base_events.py:533\u001b[39m, in \u001b[36mBaseEventLoop._make_subprocess_transport\u001b[39m\u001b[34m(self, protocol, args, shell, stdin, stdout, stderr, bufsize, extra, **kwargs)\u001b[39m\n\u001b[32m    532\u001b[39m \u001b[38;5;250m\u001b[39m\u001b[33;03m\"\"\"Create subprocess transport.\"\"\"\u001b[39;00m\n\u001b[32m--> \u001b[39m\u001b[32m533\u001b[39m \u001b[38;5;28;01mraise\u001b[39;00m \u001b[38;5;167;01mNotImplementedError\u001b[39;00m\n",
      "\u001b[31mNotImplementedError\u001b[39m: ",
      "\nDuring handling of the above exception, another exception occurred:\n",
      "\u001b[31mNotImplementedError\u001b[39m                       Traceback (most recent call last)",
      "\u001b[36mCell\u001b[39m\u001b[36m \u001b[39m\u001b[32mIn[3]\u001b[39m\u001b[32m, line 17\u001b[39m\n\u001b[32m     10\u001b[39m server_params = StdioServerParameters(\n\u001b[32m     11\u001b[39m     command=\u001b[33m\"\u001b[39m\u001b[33mpython\u001b[39m\u001b[33m\"\u001b[39m,\n\u001b[32m     12\u001b[39m     \u001b[38;5;66;03m# args=[\"/path/to/server_script.py\"],\u001b[39;00m\n\u001b[32m     13\u001b[39m     args=[\u001b[33m\"\u001b[39m\u001b[33mC:\u001b[39m\u001b[38;5;130;01m\\\\\u001b[39;00m\u001b[33mcursor\u001b[39m\u001b[38;5;130;01m\\\\\u001b[39;00m\u001b[33mDealMakers\u001b[39m\u001b[38;5;130;01m\\\\\u001b[39;00m\u001b[33mlanggraph_baseline\u001b[39m\u001b[38;5;130;01m\\\\\u001b[39;00m\u001b[33mnotebook\u001b[39m\u001b[38;5;130;01m\\\\\u001b[39;00m\u001b[33mserver\u001b[39m\u001b[38;5;130;01m\\\\\u001b[39;00m\u001b[33mmcp_rag.py\u001b[39m\u001b[33m\"\u001b[39m],\n\u001b[32m     14\u001b[39m )\n\u001b[32m     16\u001b[39m \u001b[38;5;66;03m# StdIO 클라이언트를 사용하여 RAG 서버와 통신\u001b[39;00m\n\u001b[32m---> \u001b[39m\u001b[32m17\u001b[39m \u001b[38;5;28;01masync\u001b[39;00m \u001b[38;5;28;01mwith\u001b[39;00m stdio_client(server_params) \u001b[38;5;28;01mas\u001b[39;00m (read, write):\n\u001b[32m     18\u001b[39m     \u001b[38;5;66;03m# 클라이언트 세션 생성\u001b[39;00m\n\u001b[32m     19\u001b[39m     \u001b[38;5;28;01masync\u001b[39;00m \u001b[38;5;28;01mwith\u001b[39;00m ClientSession(read, write) \u001b[38;5;28;01mas\u001b[39;00m session:\n\u001b[32m     20\u001b[39m         \u001b[38;5;66;03m# 연결 초기화\u001b[39;00m\n\u001b[32m     21\u001b[39m         \u001b[38;5;28;01mawait\u001b[39;00m session.initialize()\n",
      "\u001b[36mFile \u001b[39m\u001b[32m~\\AppData\\Roaming\\uv\\python\\cpython-3.13.3-windows-x86_64-none\\Lib\\contextlib.py:214\u001b[39m, in \u001b[36m_AsyncGeneratorContextManager.__aenter__\u001b[39m\u001b[34m(self)\u001b[39m\n\u001b[32m    212\u001b[39m \u001b[38;5;28;01mdel\u001b[39;00m \u001b[38;5;28mself\u001b[39m.args, \u001b[38;5;28mself\u001b[39m.kwds, \u001b[38;5;28mself\u001b[39m.func\n\u001b[32m    213\u001b[39m \u001b[38;5;28;01mtry\u001b[39;00m:\n\u001b[32m--> \u001b[39m\u001b[32m214\u001b[39m     \u001b[38;5;28;01mreturn\u001b[39;00m \u001b[38;5;28;01mawait\u001b[39;00m anext(\u001b[38;5;28mself\u001b[39m.gen)\n\u001b[32m    215\u001b[39m \u001b[38;5;28;01mexcept\u001b[39;00m \u001b[38;5;167;01mStopAsyncIteration\u001b[39;00m:\n\u001b[32m    216\u001b[39m     \u001b[38;5;28;01mraise\u001b[39;00m \u001b[38;5;167;01mRuntimeError\u001b[39;00m(\u001b[33m\"\u001b[39m\u001b[33mgenerator didn\u001b[39m\u001b[33m'\u001b[39m\u001b[33mt yield\u001b[39m\u001b[33m\"\u001b[39m) \u001b[38;5;28;01mfrom\u001b[39;00m\u001b[38;5;250m \u001b[39m\u001b[38;5;28;01mNone\u001b[39;00m\n",
      "\u001b[36mFile \u001b[39m\u001b[32mc:\\cursor\\DealMakers\\langgraph_baseline\\.venv\\Lib\\site-packages\\mcp\\client\\stdio\\__init__.py:115\u001b[39m, in \u001b[36mstdio_client\u001b[39m\u001b[34m(server, errlog)\u001b[39m\n\u001b[32m    112\u001b[39m     command = _get_executable_command(server.command)\n\u001b[32m    114\u001b[39m     \u001b[38;5;66;03m# Open process with stderr piped for capture\u001b[39;00m\n\u001b[32m--> \u001b[39m\u001b[32m115\u001b[39m     process = \u001b[38;5;28;01mawait\u001b[39;00m _create_platform_compatible_process(\n\u001b[32m    116\u001b[39m         command=command,\n\u001b[32m    117\u001b[39m         args=server.args,\n\u001b[32m    118\u001b[39m         env=({**get_default_environment(), **server.env} \u001b[38;5;28;01mif\u001b[39;00m server.env \u001b[38;5;129;01mis\u001b[39;00m \u001b[38;5;129;01mnot\u001b[39;00m \u001b[38;5;28;01mNone\u001b[39;00m \u001b[38;5;28;01melse\u001b[39;00m get_default_environment()),\n\u001b[32m    119\u001b[39m         errlog=errlog,\n\u001b[32m    120\u001b[39m         cwd=server.cwd,\n\u001b[32m    121\u001b[39m     )\n\u001b[32m    122\u001b[39m \u001b[38;5;28;01mexcept\u001b[39;00m \u001b[38;5;167;01mOSError\u001b[39;00m:\n\u001b[32m    123\u001b[39m     \u001b[38;5;66;03m# Clean up streams if process creation fails\u001b[39;00m\n\u001b[32m    124\u001b[39m     \u001b[38;5;28;01mawait\u001b[39;00m read_stream.aclose()\n",
      "\u001b[36mFile \u001b[39m\u001b[32mc:\\cursor\\DealMakers\\langgraph_baseline\\.venv\\Lib\\site-packages\\mcp\\client\\stdio\\__init__.py:224\u001b[39m, in \u001b[36m_create_platform_compatible_process\u001b[39m\u001b[34m(command, args, env, errlog, cwd)\u001b[39m\n\u001b[32m    219\u001b[39m \u001b[38;5;250m\u001b[39m\u001b[33;03m\"\"\"\u001b[39;00m\n\u001b[32m    220\u001b[39m \u001b[33;03mCreates a subprocess in a platform-compatible way.\u001b[39;00m\n\u001b[32m    221\u001b[39m \u001b[33;03mReturns a process handle.\u001b[39;00m\n\u001b[32m    222\u001b[39m \u001b[33;03m\"\"\"\u001b[39;00m\n\u001b[32m    223\u001b[39m \u001b[38;5;28;01mif\u001b[39;00m sys.platform == \u001b[33m\"\u001b[39m\u001b[33mwin32\u001b[39m\u001b[33m\"\u001b[39m:\n\u001b[32m--> \u001b[39m\u001b[32m224\u001b[39m     process = \u001b[38;5;28;01mawait\u001b[39;00m create_windows_process(command, args, env, errlog, cwd)\n\u001b[32m    225\u001b[39m \u001b[38;5;28;01melse\u001b[39;00m:\n\u001b[32m    226\u001b[39m     process = \u001b[38;5;28;01mawait\u001b[39;00m anyio.open_process([command, *args], env=env, stderr=errlog, cwd=cwd)\n",
      "\u001b[36mFile \u001b[39m\u001b[32mc:\\cursor\\DealMakers\\langgraph_baseline\\.venv\\Lib\\site-packages\\mcp\\client\\stdio\\win32.py:85\u001b[39m, in \u001b[36mcreate_windows_process\u001b[39m\u001b[34m(command, args, env, errlog, cwd)\u001b[39m\n\u001b[32m     82\u001b[39m     \u001b[38;5;28;01mreturn\u001b[39;00m process\n\u001b[32m     83\u001b[39m \u001b[38;5;28;01mexcept\u001b[39;00m \u001b[38;5;167;01mException\u001b[39;00m:\n\u001b[32m     84\u001b[39m     \u001b[38;5;66;03m# Don't raise, let's try to create the process without creation flags\u001b[39;00m\n\u001b[32m---> \u001b[39m\u001b[32m85\u001b[39m     process = \u001b[38;5;28;01mawait\u001b[39;00m anyio.open_process([command, *args], env=env, stderr=errlog, cwd=cwd)\n\u001b[32m     86\u001b[39m     \u001b[38;5;28;01mreturn\u001b[39;00m process\n",
      "\u001b[36mFile \u001b[39m\u001b[32mc:\\cursor\\DealMakers\\langgraph_baseline\\.venv\\Lib\\site-packages\\anyio\\_core\\_subprocesses.py:190\u001b[39m, in \u001b[36mopen_process\u001b[39m\u001b[34m(command, stdin, stdout, stderr, cwd, env, startupinfo, creationflags, start_new_session, pass_fds, user, group, extra_groups, umask)\u001b[39m\n\u001b[32m    187\u001b[39m \u001b[38;5;28;01mif\u001b[39;00m umask >= \u001b[32m0\u001b[39m:\n\u001b[32m    188\u001b[39m     kwargs[\u001b[33m\"\u001b[39m\u001b[33mumask\u001b[39m\u001b[33m\"\u001b[39m] = umask\n\u001b[32m--> \u001b[39m\u001b[32m190\u001b[39m \u001b[38;5;28;01mreturn\u001b[39;00m \u001b[38;5;28;01mawait\u001b[39;00m get_async_backend().open_process(\n\u001b[32m    191\u001b[39m     command,\n\u001b[32m    192\u001b[39m     stdin=stdin,\n\u001b[32m    193\u001b[39m     stdout=stdout,\n\u001b[32m    194\u001b[39m     stderr=stderr,\n\u001b[32m    195\u001b[39m     cwd=cwd,\n\u001b[32m    196\u001b[39m     env=env,\n\u001b[32m    197\u001b[39m     startupinfo=startupinfo,\n\u001b[32m    198\u001b[39m     creationflags=creationflags,\n\u001b[32m    199\u001b[39m     start_new_session=start_new_session,\n\u001b[32m    200\u001b[39m     pass_fds=pass_fds,\n\u001b[32m    201\u001b[39m     **kwargs,\n\u001b[32m    202\u001b[39m )\n",
      "\u001b[36mFile \u001b[39m\u001b[32mc:\\cursor\\DealMakers\\langgraph_baseline\\.venv\\Lib\\site-packages\\anyio\\_backends\\_asyncio.py:2561\u001b[39m, in \u001b[36mAsyncIOBackend.open_process\u001b[39m\u001b[34m(cls, command, stdin, stdout, stderr, **kwargs)\u001b[39m\n\u001b[32m   2553\u001b[39m     process = \u001b[38;5;28;01mawait\u001b[39;00m asyncio.create_subprocess_shell(\n\u001b[32m   2554\u001b[39m         command,\n\u001b[32m   2555\u001b[39m         stdin=stdin,\n\u001b[32m   (...)\u001b[39m\u001b[32m   2558\u001b[39m         **kwargs,\n\u001b[32m   2559\u001b[39m     )\n\u001b[32m   2560\u001b[39m \u001b[38;5;28;01melse\u001b[39;00m:\n\u001b[32m-> \u001b[39m\u001b[32m2561\u001b[39m     process = \u001b[38;5;28;01mawait\u001b[39;00m asyncio.create_subprocess_exec(\n\u001b[32m   2562\u001b[39m         *command,\n\u001b[32m   2563\u001b[39m         stdin=stdin,\n\u001b[32m   2564\u001b[39m         stdout=stdout,\n\u001b[32m   2565\u001b[39m         stderr=stderr,\n\u001b[32m   2566\u001b[39m         **kwargs,\n\u001b[32m   2567\u001b[39m     )\n\u001b[32m   2569\u001b[39m stdin_stream = StreamWriterWrapper(process.stdin) \u001b[38;5;28;01mif\u001b[39;00m process.stdin \u001b[38;5;28;01melse\u001b[39;00m \u001b[38;5;28;01mNone\u001b[39;00m\n\u001b[32m   2570\u001b[39m stdout_stream = StreamReaderWrapper(process.stdout) \u001b[38;5;28;01mif\u001b[39;00m process.stdout \u001b[38;5;28;01melse\u001b[39;00m \u001b[38;5;28;01mNone\u001b[39;00m\n",
      "\u001b[36mFile \u001b[39m\u001b[32m~\\AppData\\Roaming\\uv\\python\\cpython-3.13.3-windows-x86_64-none\\Lib\\asyncio\\subprocess.py:224\u001b[39m, in \u001b[36mcreate_subprocess_exec\u001b[39m\u001b[34m(program, stdin, stdout, stderr, limit, *args, **kwds)\u001b[39m\n\u001b[32m    221\u001b[39m loop = events.get_running_loop()\n\u001b[32m    222\u001b[39m protocol_factory = \u001b[38;5;28;01mlambda\u001b[39;00m: SubprocessStreamProtocol(limit=limit,\n\u001b[32m    223\u001b[39m                                                     loop=loop)\n\u001b[32m--> \u001b[39m\u001b[32m224\u001b[39m transport, protocol = \u001b[38;5;28;01mawait\u001b[39;00m loop.subprocess_exec(\n\u001b[32m    225\u001b[39m     protocol_factory,\n\u001b[32m    226\u001b[39m     program, *args,\n\u001b[32m    227\u001b[39m     stdin=stdin, stdout=stdout,\n\u001b[32m    228\u001b[39m     stderr=stderr, **kwds)\n\u001b[32m    229\u001b[39m \u001b[38;5;28;01mreturn\u001b[39;00m Process(transport, protocol, loop)\n",
      "\u001b[36mFile \u001b[39m\u001b[32m~\\AppData\\Roaming\\uv\\python\\cpython-3.13.3-windows-x86_64-none\\Lib\\asyncio\\base_events.py:1788\u001b[39m, in \u001b[36mBaseEventLoop.subprocess_exec\u001b[39m\u001b[34m(self, protocol_factory, program, stdin, stdout, stderr, universal_newlines, shell, bufsize, encoding, errors, text, *args, **kwargs)\u001b[39m\n\u001b[32m   1786\u001b[39m     debug_log = \u001b[33mf\u001b[39m\u001b[33m'\u001b[39m\u001b[33mexecute program \u001b[39m\u001b[38;5;132;01m{\u001b[39;00mprogram\u001b[38;5;132;01m!r}\u001b[39;00m\u001b[33m'\u001b[39m\n\u001b[32m   1787\u001b[39m     \u001b[38;5;28mself\u001b[39m._log_subprocess(debug_log, stdin, stdout, stderr)\n\u001b[32m-> \u001b[39m\u001b[32m1788\u001b[39m transport = \u001b[38;5;28;01mawait\u001b[39;00m \u001b[38;5;28mself\u001b[39m._make_subprocess_transport(\n\u001b[32m   1789\u001b[39m     protocol, popen_args, \u001b[38;5;28;01mFalse\u001b[39;00m, stdin, stdout, stderr,\n\u001b[32m   1790\u001b[39m     bufsize, **kwargs)\n\u001b[32m   1791\u001b[39m \u001b[38;5;28;01mif\u001b[39;00m \u001b[38;5;28mself\u001b[39m._debug \u001b[38;5;129;01mand\u001b[39;00m debug_log \u001b[38;5;129;01mis\u001b[39;00m \u001b[38;5;129;01mnot\u001b[39;00m \u001b[38;5;28;01mNone\u001b[39;00m:\n\u001b[32m   1792\u001b[39m     logger.info(\u001b[33m'\u001b[39m\u001b[38;5;132;01m%s\u001b[39;00m\u001b[33m: \u001b[39m\u001b[38;5;132;01m%r\u001b[39;00m\u001b[33m'\u001b[39m, debug_log, transport)\n",
      "\u001b[36mFile \u001b[39m\u001b[32m~\\AppData\\Roaming\\uv\\python\\cpython-3.13.3-windows-x86_64-none\\Lib\\asyncio\\base_events.py:533\u001b[39m, in \u001b[36mBaseEventLoop._make_subprocess_transport\u001b[39m\u001b[34m(self, protocol, args, shell, stdin, stdout, stderr, bufsize, extra, **kwargs)\u001b[39m\n\u001b[32m    529\u001b[39m \u001b[38;5;28;01masync\u001b[39;00m \u001b[38;5;28;01mdef\u001b[39;00m\u001b[38;5;250m \u001b[39m\u001b[34m_make_subprocess_transport\u001b[39m(\u001b[38;5;28mself\u001b[39m, protocol, args, shell,\n\u001b[32m    530\u001b[39m                                      stdin, stdout, stderr, bufsize,\n\u001b[32m    531\u001b[39m                                      extra=\u001b[38;5;28;01mNone\u001b[39;00m, **kwargs):\n\u001b[32m    532\u001b[39m \u001b[38;5;250m    \u001b[39m\u001b[33;03m\"\"\"Create subprocess transport.\"\"\"\u001b[39;00m\n\u001b[32m--> \u001b[39m\u001b[32m533\u001b[39m     \u001b[38;5;28;01mraise\u001b[39;00m \u001b[38;5;167;01mNotImplementedError\u001b[39;00m\n",
      "\u001b[31mNotImplementedError\u001b[39m: "
     ]
    }
   ],
   "source": [
    "from mcp import ClientSession, StdioServerParameters\n",
    "from mcp.client.stdio import stdio_client\n",
    "from langchain_mcp_adapters.tools import load_mcp_tools\n",
    "from langgraph.prebuilt import create_react_agent\n",
    "from langchain_anthropic import ChatAnthropic\n",
    "# from utils import aream_graph\n",
    "\n",
    "\n",
    "# RAG 서버를 위한 StdIO 서버 파라미터 설정\n",
    "server_params = StdioServerParameters(\n",
    "    command=\"python\",\n",
    "    # args=[\"/path/to/server_script.py\"],\n",
    "    args=[\"C:\\\\cursor\\\\DealMakers\\\\langgraph_baseline\\\\notebook\\\\server\\\\mcp_rag.py\"],\n",
    ")\n",
    "\n",
    "# StdIO 클라이언트를 사용하여 RAG 서버와 통신\n",
    "async with stdio_client(server_params) as (read, write):\n",
    "    # 클라이언트 세션 생성\n",
    "    async with ClientSession(read, write) as session:\n",
    "        # 연결 초기화\n",
    "        await session.initialize()\n",
    "\n",
    "        # MCP 도구 로드 (여기서는 retriever 도구)\n",
    "        tools = await load_mcp_tools(session)\n",
    "\n",
    "        # 에이전트 생성 및 실행\n",
    "        agent = create_react_agent(llm, tools)\n",
    "\n",
    "        # 에이전트 응답 스트리밍\n",
    "        agent_response = await agent.ainvoke({\"messages\": \"Hello, how are you?\"})\n"
   ]
  },
  {
   "cell_type": "markdown",
   "metadata": {},
   "source": [
    "## Agent"
   ]
  },
  {
   "cell_type": "markdown",
   "metadata": {},
   "source": [
    "### 응용 예시"
   ]
  },
  {
   "cell_type": "code",
   "execution_count": 5,
   "metadata": {},
   "outputs": [],
   "source": [
    "# Custom JSON Encoder\n",
    "\n",
    "class CustomEncoder(json.JSONEncoder):\n",
    "    \"\"\"\n",
    "    Custom JSON encoder that handles objects with a 'content' attribute.\n",
    "    \n",
    "    If an object has a 'content' attribute, it returns a dictionary with the object's type and its content.\n",
    "    Otherwise, it falls back to the default encoding.\n",
    "    \"\"\"\n",
    "    def default(self, o):\n",
    "        if hasattr(o, \"content\"):\n",
    "            return {\"type\": o.__class__.__name__, \"content\": o.content}\n",
    "        return super().default(o)"
   ]
  },
  {
   "cell_type": "code",
   "execution_count": 8,
   "metadata": {},
   "outputs": [],
   "source": [
    "async def run_agent():\n",
    "    \"\"\"\n",
    "    Connect to the MCP server, load MCP tools, create a React agent, and run an interactive chat loop.\n",
    "    \n",
    "    Steps:\n",
    "      1. Open a stdio connection to the MCP server.\n",
    "      2. Create and initialize an MCP session.\n",
    "      3. Store the session in a global holder (mcp_client) for tool access.\n",
    "      4. Load MCP tools using load_mcp_tools.\n",
    "      5. Create a React agent using create_react_agent with the LLM and loaded tools.\n",
    "      6. Enter an interactive loop: for each user query, invoke the agent asynchronously using ainvoke,\n",
    "         then print the response as formatted JSON using our custom encoder.\n",
    "    \"\"\"\n",
    "    global mcp_client\n",
    "    async with stdio_client(server_params) as (read, write):\n",
    "            # 1. server_params에 지정된 명령어(python server_script.py)를 사용해 MCP 서버를 별도의 프로세스로 실행\n",
    "            # 2. 실행된 서버 프로세스와 현재 클라이언트 프로세스 사이에 표준 입출력(stdio) 파이프를 연결합니다. 즉, 클라이언트가 터미널에 텍스트를 쓰는 것처럼 서버에 데이터를 보낼 수 있고, 서버가 터미널에 출력하는 텍스트를 클라이언트가 읽을 수 있게 됨\n",
    "            # 3. 이 통신 파이프를 제어할 수 있는 두 개의 객체, read(서버로부터 데이터를 읽는 통로)와 write(서버에게 데이터를 쓰는 통로)를 반환\n",
    "            # 클라이언트 프로그램이 MCP 서버와 통신하려면 가장 먼저 물리적인 연결 통로가 필요, 이 코드는 그 통로를 만들고 관리하는 역할을 합니다. async with 구문은 이 블록의 실행이 끝나면 서버 프로세스를 자동으로 종료하고 연결을 깔끔하게 닫아주는 역할을 보장하여, 프로그램이 비정상적으로 종료되는 것을 방지\n",
    "        async with ClientSession(read, write) as session:\n",
    "                # read와 write는 단순히 바이트(byte) 데이터를 주고받는 역할만 하지만, ClientSession 객체는 \"초기화 메시지 보내기\", \"도구 목록 요청하기\" 등 의미 있는 MCP 통신 명령을 수행할 수 있는 고수준의 인터페이스를 제공\n",
    "                # 서버와 단순히 데이터를 주고받는 것만으로는 부족합니다. 정해진 약속(프로토콜)에 따라 메시지를 구조화하고, 요청과 응답을 관리해야 합니다. ClientSession은 이 복잡한 프로토콜 처리를 대신해주는 전문가 객체입니다. 개발자는 session.initialize()처럼 간단한 명령만 내리면, 내부적으로 복잡한 메시지 포맷팅과 전송을 이 객체가 알아서 처리\n",
    "            await session.initialize() # 세션 초기화\n",
    "                # session 객체를 통해 MCP 서버에게 \"통신을 시작하자\"는 공식적인 초기화(initialization) 요청\n",
    "                # 클라이언트와 서버가 본격적으로 데이터를 교환하기 전에, 서로 통신할 준비가 되었는지 확인하는 과정입니다. 이를 \"핸드셰이크(handshake)\"라고도 합니다. 이 과정이 성공해야만 클라이언트는 서버가 정상적으로 실행되었고, 요청을 받을 준비가 되었음을 확신할 수 있습니다. await는 서버로부터 \"준비 완료\" 응답이 올 때까지 기다리라는 의미\n",
    "            mcp_client = type(\"MCPClientHolder\", (), {\"session\": session})()\n",
    "                #  파이썬의 동적 클래스 생성 기능\n",
    "            \n",
    "            tools = await load_mcp_tools(session)\n",
    "            \n",
    "            agent = create_react_agent(llm, tools)\n",
    "            \n",
    "            print(\"MCP Client Started! Type 'quit' to exit.\")\n",
    "            while True:\n",
    "                query = input(\"\\nQuery: \").strip()\n",
    "                if query.lower() == \"quit\":\n",
    "                    break\n",
    "                \n",
    "                response = await agent.ainvoke({\"messages\": query})\n",
    "                \n",
    "                try:\n",
    "                    formatted = json.dumps(response, indent=2, cls=CustomEncoder)\n",
    "                except Exception as e:\n",
    "                    formatted = str(response)\n",
    "                print(\"\\nResponse: \")\n",
    "                print(formatted)\n",
    "    return\n",
    "            "
   ]
  },
  {
   "cell_type": "markdown",
   "metadata": {},
   "source": [
    "```python \n",
    "mcp_client = type(\"MCPClientHolder\", (), {\"session\": session})() \n",
    "```\n",
    "\n",
    "1. 첫 번째 인자 : 클래스 이름\n",
    "2. 두 번째 인자 : 상속받을 부모 클래스\n",
    "3. 세 번째 인자 : 클래스가 가질 속성 딕셔너리\n",
    "4. () : 바로 앞 tpye으로 만들어진 클래스의 인스턴스 생성\n",
    "\n",
    "=\n",
    "\n",
    "```python\n",
    "# 1. 새로운 클래스를 정의합니다.\n",
    "class MCPClientHolder:\n",
    "    def __init__(self, session_object):\n",
    "        self.session = session_object\n",
    "\n",
    "# 2. 그 클래스의 인스턴스(객체)를 생성합니다.\n",
    "mcp_client = MCPClientHolder(session_object=session)\n",
    "```\n"
   ]
  },
  {
   "cell_type": "markdown",
   "metadata": {},
   "source": []
  }
 ],
 "metadata": {
  "kernelspec": {
   "display_name": ".venv",
   "language": "python",
   "name": "python3"
  },
  "language_info": {
   "codemirror_mode": {
    "name": "ipython",
    "version": 3
   },
   "file_extension": ".py",
   "mimetype": "text/x-python",
   "name": "python",
   "nbconvert_exporter": "python",
   "pygments_lexer": "ipython3",
   "version": "3.13.3"
  }
 },
 "nbformat": 4,
 "nbformat_minor": 2
}
