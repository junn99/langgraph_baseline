{
 "cells": [
  {
   "cell_type": "markdown",
   "metadata": {},
   "source": [
    "# uv 가상환경 -> ipynb 설정\n",
    "1. uv venv\n",
    "2. .venv\\Scripts\\activate\n",
    "3. uv sync\n",
    "4. uv sync --dev\n",
    "5. 커널에서 가상환경 선택\n",
    "\n",
    "이게 될 때도 있고 안될 때가 있음;; 잘 모르겠네"
   ]
  },
  {
   "cell_type": "markdown",
   "metadata": {},
   "source": []
  }
 ],
 "metadata": {
  "language_info": {
   "name": "python"
  }
 },
 "nbformat": 4,
 "nbformat_minor": 2
}
